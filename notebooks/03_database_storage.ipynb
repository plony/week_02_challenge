{
 "cells": [
  {
   "cell_type": "code",
   "execution_count": 2,
   "id": "1def3efd",
   "metadata": {},
   "outputs": [
    {
     "name": "stdout",
     "output_type": "stream",
     "text": [
      "Loaded 8986 analyzed reviews for database storage.\n",
      "\n",
      "--- Connecting to Oracle Database ---\n",
      "Error connecting to Oracle Database: DPY-4018: cannot parse connect string \"localhost:1521/XEPDB1 # Use the port and PDB name noted during installation\" (Code: 0)\n",
      "Please check your db_config.ini and Oracle XE/Instant Client setup.\n",
      "Failed to connect to Oracle Database. Check config and connection details.\n"
     ]
    }
   ],
   "source": [
    "# notebooks/03_database_storage.ipynb\n",
    "\n",
    "# 1. Import necessary libraries\n",
    "import pandas as pd\n",
    "import os\n",
    "import sys\n",
    "\n",
    "# Correctly add the 'scripts' directory to the Python path\n",
    "# The goal is for Python to find 'db_operations.py' directly.\n",
    "# If this notebook is in 'notebooks/', then 'scripts/' is at the same level as 'notebooks/'.\n",
    "# So, os.getcwd() is '.../week_02_challenge/notebooks'\n",
    "# os.pardir is '..'\n",
    "# os.path.join(os.getcwd(), os.pardir) takes us to '.../week_02_challenge'\n",
    "# os.path.join(os.getcwd(), os.pardir, 'scripts') takes us to '.../week_02_challenge/scripts'\n",
    "scripts_dir = os.path.abspath(os.path.join(os.getcwd(), os.pardir, 'scripts'))\n",
    "if scripts_dir not in sys.path:\n",
    "    sys.path.append(scripts_dir)\n",
    "    print(f\"Added '{scripts_dir}' to sys.path.\")\n",
    "\n",
    "# Now import the module directly\n",
    "from db_operations import connect_to_oracle, create_tables, insert_review_data\n",
    "\n",
    "# 2. Define input path for analyzed data\n",
    "processed_data_dir = os.path.join(os.path.abspath(''), os.pardir, 'data', 'processed')\n",
    "input_filepath = os.path.join(processed_data_dir, 'fintech_app_reviews_analyzed.csv')\n",
    "\n",
    "# 3. Load the analyzed data\n",
    "if not os.path.exists(input_filepath):\n",
    "    print(f\"Error: Analyzed data file not found at {input_filepath}. Please run 02_sentiment_thematic_analysis.ipynb first.\")\n",
    "    df_analyzed = pd.DataFrame() # Empty df to prevent errors\n",
    "else:\n",
    "    df_analyzed = pd.read_csv(input_filepath)\n",
    "    print(f\"Loaded {len(df_analyzed)} analyzed reviews for database storage.\")\n",
    "\n",
    "    # Ensure 'Date' column is in datetime format for Oracle insertion\n",
    "    # Use errors='coerce' to turn unparseable dates into NaT (Not a Time)\n",
    "    df_analyzed['Date'] = pd.to_datetime(df_analyzed['Date'], errors='coerce')\n",
    "    # Filter out rows where Date couldn't be parsed if necessary, or handle NaT during insertion\n",
    "    df_analyzed = df_analyzed.dropna(subset=['Date']).copy() # Make a copy to avoid SettingWithCopyWarning\n",
    "    \n",
    "    # Ensure 'reviewId' is string\n",
    "    df_analyzed['reviewId'] = df_analyzed['reviewId'].astype(str)\n",
    "\n",
    "# 4. Connect to Oracle DB, create tables, and insert data\n",
    "if not df_analyzed.empty:\n",
    "    connection = None\n",
    "    try:\n",
    "        print(\"\\n--- Connecting to Oracle Database ---\")\n",
    "        connection = connect_to_oracle()\n",
    "        if connection:\n",
    "            print(\"\\n--- Creating Tables (if not exist) ---\")\n",
    "            if create_tables(connection):\n",
    "                print(\"\\n--- Inserting Review Data ---\")\n",
    "                insert_review_data(connection, df_analyzed)\n",
    "            else:\n",
    "                print(\"Table creation failed. Cannot proceed with data insertion.\")\n",
    "        else:\n",
    "            print(\"Failed to connect to Oracle Database. Check config and connection details.\")\n",
    "    except Exception as e:\n",
    "        print(f\"An unexpected error occurred during database operations: {e}\")\n",
    "    finally:\n",
    "        if connection:\n",
    "            connection.close()\n",
    "            print(\"Database connection closed.\")\n",
    "else:\n",
    "    print(\"No analyzed data loaded. Skipping database operations.\")"
   ]
  }
 ],
 "metadata": {
  "kernelspec": {
   "display_name": ".venv",
   "language": "python",
   "name": "python3"
  },
  "language_info": {
   "codemirror_mode": {
    "name": "ipython",
    "version": 3
   },
   "file_extension": ".py",
   "mimetype": "text/x-python",
   "name": "python",
   "nbconvert_exporter": "python",
   "pygments_lexer": "ipython3",
   "version": "3.12.10"
  }
 },
 "nbformat": 4,
 "nbformat_minor": 5
}
